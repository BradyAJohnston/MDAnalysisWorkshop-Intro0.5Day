{
 "cells": [
  {
   "cell_type": "markdown",
   "metadata": {
    "slideshow": {
     "slide_type": "slide"
    }
   },
   "source": [
    "# <center> Workshop - Intro to MDAnalysis Part 2</center>\n"
   ]
  },
  {
   "cell_type": "markdown",
   "metadata": {
    "slideshow": {
     "slide_type": "slide"
    }
   },
   "source": [
    "# Distance calculations in MDAnalysis"
   ]
  },
  {
   "cell_type": "markdown",
   "metadata": {
    "cell_style": "split",
    "slideshow": {
     "slide_type": "-"
    }
   },
   "source": [
    "Atom coordinates are in the \n",
    "`.positions` attribute of an `AtomGroup`\n",
    "\n",
    "The positions are returned as a NumPy array, which we can then readily manipulate.\n",
    "\n",
    "\n"
   ]
  },
  {
   "cell_type": "code",
   "execution_count": 6,
   "metadata": {
    "cell_style": "split",
    "scrolled": true,
    "slideshow": {
     "slide_type": "-"
    }
   },
   "outputs": [
    {
     "name": "stdout",
     "output_type": "stream",
     "text": [
      "AtomGroup has length 3341 and positions is shape (3341, 3)\n"
     ]
    },
    {
     "data": {
      "text/plain": [
       "array([[ 11.736044 ,   8.500797 , -10.445281 ],\n",
       "       [ 12.365119 ,   7.839936 , -10.834842 ],\n",
       "       [ 12.0919485,   9.441535 , -10.724611 ],\n",
       "       ...,\n",
       "       [  6.512604 ,  18.447018 ,  -7.134053 ],\n",
       "       [  6.300186 ,  19.363485 ,  -7.935916 ],\n",
       "       [  5.5854015,  17.589624 ,  -6.9656615]], dtype=float32)"
      ]
     },
     "execution_count": 6,
     "metadata": {},
     "output_type": "execute_result"
    }
   ],
   "source": [
    "# First we import MDAnalysis\n",
    "import MDAnalysis as mda\n",
    "from MDAnalysis.tests.datafiles import PSF, DCD\n",
    "\n",
    "u = mda.Universe(PSF, DCD)\n",
    "\n",
    "ag = u.select_atoms('protein')\n",
    "\n",
    "pos = ag.positions\n",
    "\n",
    "print(f'AtomGroup has length {len(ag)} and positions is shape {pos.shape}')\n",
    "\n",
    "pos"
   ]
  },
  {
   "cell_type": "markdown",
   "metadata": {},
   "source": [
    "Some built-in functions based on position data:\n",
    "\n",
    "- `center_of_mass()`\n",
    "\n",
    "- `center_of_geometry()`\n"
   ]
  },
  {
   "cell_type": "code",
   "execution_count": 4,
   "metadata": {},
   "outputs": [
    {
     "name": "stdout",
     "output_type": "stream",
     "text": [
      "[-0.01094035  0.05727601 -0.12885778]\n",
      "[-0.04223882  0.01418196 -0.03504874]\n"
     ]
    }
   ],
   "source": [
    "print(ag.center_of_mass())\n",
    "\n",
    "print(ag.center_of_geometry())"
   ]
  },
  {
   "cell_type": "markdown",
   "metadata": {
    "slideshow": {
     "slide_type": "slide"
    }
   },
   "source": [
    "## The `lib.distances` module"
   ]
  },
  {
   "cell_type": "markdown",
   "metadata": {
    "cell_style": "center",
    "slideshow": {
     "slide_type": "-"
    }
   },
   "source": [
    "Particle positions are given as numpy arrays, so most work can be done using numpy (and numpy derived) libraries.\n",
    "\n",
    "MDAnalysis  `lib.distances` module comes handy when\n",
    "\n",
    "- we have periodic boundary conditions (numpy cannot handle this)\n",
    "\n",
    "- domain specific algorithms can be used\n"
   ]
  },
  {
   "cell_type": "code",
   "execution_count": 13,
   "metadata": {},
   "outputs": [
    {
     "data": {
      "text/plain": [
       "<module 'MDAnalysis.lib.distances' from '/Users/richard/mambaforge/envs/mda/lib/python3.11/site-packages/MDAnalysis/lib/distances.py'>"
      ]
     },
     "execution_count": 13,
     "metadata": {},
     "output_type": "execute_result"
    }
   ],
   "source": [
    "from MDAnalysis.lib import distances\n",
    "\n",
    "distances"
   ]
  },
  {
   "cell_type": "markdown",
   "metadata": {
    "slideshow": {
     "slide_type": "slide"
    }
   },
   "source": [
    "### `distance_array`"
   ]
  },
  {
   "cell_type": "markdown",
   "metadata": {
    "slideshow": {
     "slide_type": "-"
    }
   },
   "source": [
    "To calculate **all** pairwise distances between two arrays of coordinates."
   ]
  },
  {
   "cell_type": "code",
   "execution_count": 29,
   "metadata": {
    "cell_style": "center",
    "slideshow": {
     "slide_type": "-"
    }
   },
   "outputs": [
    {
     "name": "stdout",
     "output_type": "stream",
     "text": [
      "Our input atomgroups had sizes 10 and 20, the output had shape: (10, 20)\n",
      "\n",
      "[[4.18088681 4.14294196 5.04585143 5.32751757 4.7130687  6.30996415\n",
      "  5.68400283 2.54812542 2.96635031 3.67629133 3.85846855 4.99648446\n",
      "  4.94565935 5.93783435 6.90992514 6.38235495 5.82786529 5.33756183\n",
      "  6.9460756  5.57071665]\n",
      " [4.91489955 4.85935014 5.98073929 6.23106959 5.54186499 7.18169306\n",
      "  6.62319949 2.8273095  3.26287418 3.7922078  3.96758782 5.03623467\n",
      "  4.97678969 5.74742629 6.73735139 6.22207718 5.38776855 4.86114181\n",
      "  6.45646673 5.02042183]\n",
      " [4.17637449 4.53242997 5.03940839 4.97153416 4.23180203 5.9572419\n",
      "  5.2354988  3.42427919 3.93015825 4.44948799 4.46483858 5.85226664\n",
      "  5.89520245 6.77510548 7.78459265 7.10265153 6.67269431 6.26081198\n",
      "  7.7989879  6.24766953]\n",
      " [4.76201846 4.45247434 5.1726278  5.66651264 5.21592931 6.70279043\n",
      "  5.88478524 2.86477004 2.84568316 4.17159323 4.54119591 5.32984121\n",
      "  5.07396141 6.36955445 7.25278687 6.95744115 6.26345124 5.61743675\n",
      "  7.34000981 6.20978052]\n",
      " [3.00208262 2.82140437 4.18107618 4.64844472 4.12341026 5.52451611\n",
      "  5.23791667 1.48900444 2.32106486 2.45264824 2.57058595 3.86238544\n",
      "  3.99734444 4.93982352 5.90929733 5.27497008 5.15384944 4.85386412\n",
      "  6.31723534 5.00234622]\n",
      " [2.92445503 3.20219892 4.61795707 4.76796524 4.05246659 5.53698907\n",
      "  5.46301817 2.10023785 3.16526412 2.5193405  2.26084931 4.00641875\n",
      "  4.37526712 4.84638332 5.89597599 4.97474849 4.99875248 4.89319607\n",
      "  6.16165841 4.56100621]\n",
      " [2.16123566 2.13017051 2.7203966  3.26642015 2.97056034 4.21158774\n",
      "  3.78848949 2.4873731  2.98453666 3.3933762  3.47114854 4.67689488\n",
      "  4.79840635 5.97868082 6.85653909 6.24244012 6.45837401 6.18936626\n",
      "  7.61517386 6.40637536]\n",
      " [3.09182214 2.47243108 2.78406968 3.78025066 3.7702119  4.75991321\n",
      "  4.08315964 2.69663056 2.67990587 3.82397424 4.15905693 4.88816382\n",
      "  4.7613237  6.30674008 7.07630485 6.74789019 6.79772557 6.36921099\n",
      "  7.91549568 6.96963022]\n",
      " [2.48215731 3.08488569 2.95440812 2.87029886 2.34275401 3.88995892\n",
      "  3.21509832 3.47635759 4.00235462 4.36697065 4.30645412 5.73265857\n",
      "  5.89080712 6.9463497  7.87800797 7.13849549 7.31437401 7.05434252\n",
      "  8.48248702 7.07577092]\n",
      " [1.05990397 1.12103122 1.76613013 2.56106814 2.59043767 3.24970008\n",
      "  3.37614308 3.1361249  3.69573203 3.5374006  3.45869076 4.6199177\n",
      "  4.93135675 5.97132703 6.75536863 6.04694252 6.77209809 6.69926758\n",
      "  7.89312845 6.79431798]]\n"
     ]
    }
   ],
   "source": [
    "ag1 = u.atoms[:10]\n",
    "ag2 = u.atoms[10:30]\n",
    "\n",
    "\n",
    "da = distances.distance_array(ag1.positions, \n",
    "                              ag2.positions,\n",
    "                              box=u.dimensions)\n",
    "\n",
    "print(f'Our input atomgroups had sizes {len(ag1)} and {len(ag2)}, the output had shape: {da.shape}')\n",
    "print()\n",
    "\n",
    "print(da)"
   ]
  },
  {
   "cell_type": "markdown",
   "metadata": {},
   "source": [
    "The output of distance array is a matrix of the distance between each position in the first coordinate array and each position in the second coordinate array.\n",
    "\n",
    "For example to look at the distance between the 4th and 6th atom in the two AtomGroups:"
   ]
  },
  {
   "cell_type": "code",
   "execution_count": 30,
   "metadata": {},
   "outputs": [
    {
     "name": "stdout",
     "output_type": "stream",
     "text": [
      "The distance between <Atom 4: HT3 of type 2 of resname MET, resid 1 and segid 4AKE> and <Atom 16: HE2 of type 3 of resname MET, resid 1 and segid 4AKE> is 6.70279043302332 A\n"
     ]
    }
   ],
   "source": [
    "print(f'The distance between {ag1[3]} and {ag2[5]} is {da[3, 5]} A')"
   ]
  },
  {
   "cell_type": "markdown",
   "metadata": {
    "slideshow": {
     "slide_type": "slide"
    }
   },
   "source": [
    "### `self_distance_array`\n",
    "\n",
    "For calculating distances between all combinations of coordinates.\n",
    "\n",
    "Takes a **single array** of coordinates and calculates all pairwise distances.\n",
    "This will yield  ½ n(n-1) distances.\n"
   ]
  },
  {
   "cell_type": "code",
   "execution_count": 34,
   "metadata": {
    "cell_style": "center",
    "slideshow": {
     "slide_type": "-"
    }
   },
   "outputs": [
    {
     "name": "stdout",
     "output_type": "stream",
     "text": [
      "Our input AtomGroup had size 10 and the output has shape (45,)\n"
     ]
    }
   ],
   "source": [
    "sda = distances.self_distance_array(ag1.positions, box=None)\n",
    "\n",
    "print(f'Our input AtomGroup had size {len(ag1)} and the output has shape {sda.shape}')\n"
   ]
  },
  {
   "cell_type": "markdown",
   "metadata": {
    "cell_style": "center",
    "slideshow": {
     "slide_type": "slide"
    }
   },
   "source": [
    "### `calc_bonds`\n",
    "\n",
    "For calculating a series of distances between pairs of coordinates.\n",
    "\n",
    "Takes 2 arrays of coordinates **of equal length**, and returns the distances between coordinate pairs in each row.\n"
   ]
  },
  {
   "cell_type": "code",
   "execution_count": 35,
   "metadata": {
    "cell_style": "center"
   },
   "outputs": [
    {
     "name": "stdout",
     "output_type": "stream",
     "text": [
      "The inputs had length 10 and 10 and the output has shape (10,)\n",
      "\n",
      "The distance between the first coordinate in each array is: 4.180886814373797\n"
     ]
    }
   ],
   "source": [
    "coords1 = u.atoms[:10].positions\n",
    "coords2 = u.atoms[10:20].positions\n",
    "dist = distances.calc_bonds(coords1, \n",
    "                            coords2, \n",
    "                            box=None)\n",
    "\n",
    "print(f'The inputs had length {len(coords1)} and {len(coords2)} and the output has shape {dist.shape}')\n",
    "print()\n",
    "print(f'The distance between the first coordinate in each array is: {dist[0]}')"
   ]
  },
  {
   "cell_type": "markdown",
   "metadata": {
    "slideshow": {
     "slide_type": "slide"
    }
   },
   "source": [
    "# `calc_angles` & `calc_dihedrals`\n",
    "\n",
    "Same as `calc_bonds`\n",
    "\n",
    "Calculate either the angle or dihedral angle between 3 or 4 arrays of coordinates.\n",
    "\n",
    "Takes 3 or 4 arrays of identical length coordinates.\n"
   ]
  },
  {
   "cell_type": "code",
   "execution_count": 38,
   "metadata": {
    "cell_style": "center",
    "slideshow": {
     "slide_type": "-"
    }
   },
   "outputs": [
    {
     "name": "stdout",
     "output_type": "stream",
     "text": [
      "[ 60.1705515   70.44413816  61.74292062  48.97993666  31.49563244\n",
      "  31.70597945  15.62738421 162.62889398 125.52167306 148.32427929]\n"
     ]
    }
   ],
   "source": [
    "import numpy as np\n",
    "coords1 = u.atoms[:10].positions\n",
    "coords2 = u.atoms[10:20].positions\n",
    "coords3 = u.atoms[20:30].positions\n",
    "\n",
    "angles = distances.calc_angles(\n",
    "            coords1, coords2, coords3,\n",
    "            box=None, result=None)\n",
    "\n",
    "print(np.rad2deg(angles))\n",
    "\n",
    "\n",
    "coords4 = u.atoms[30:40].positions\n",
    "\n",
    "dihedrals = distances.calc_dihedrals(coords1, coords2, coords3, coords4)"
   ]
  },
  {
   "cell_type": "markdown",
   "metadata": {
    "slideshow": {
     "slide_type": "slide"
    }
   },
   "source": [
    "# Minimum image convention\n",
    "\n",
    "To account for periodic boundary conditions in distance calculations,\n",
    "pass the box information as `box=ag.dimensions` to any distance function.\n"
   ]
  },
  {
   "cell_type": "markdown",
   "metadata": {
    "slideshow": {
     "slide_type": "slide"
    }
   },
   "source": [
    "# `capped_distance` and `self_capped_distance`\n",
    "\n",
    "Only find distances up to a limit. It returns:\n",
    "- an array of indices\n",
    "- an array of distances\n"
   ]
  },
  {
   "cell_type": "code",
   "execution_count": 44,
   "metadata": {
    "cell_style": "center",
    "slideshow": {
     "slide_type": "-"
    }
   },
   "outputs": [
    {
     "data": {
      "text/plain": [
       "(array([[   0, 1214],\n",
       "        [   0, 1209],\n",
       "        [   0,  390]]),\n",
       " array([3.07942888, 3.81926148, 3.99841942]))"
      ]
     },
     "execution_count": 44,
     "metadata": {},
     "output_type": "execute_result"
    }
   ],
   "source": [
    "ix, dist = distances.capped_distance(reference, \n",
    "                          configuration, \n",
    "                          min_cutoff = 3,\n",
    "                          max_cutoff=4,\n",
    "                          box=u.dimensions)\n",
    "ix[:3], dist[:3]"
   ]
  },
  {
   "cell_type": "markdown",
   "metadata": {
    "cell_style": "center",
    "deletable": false,
    "editable": false,
    "hide_input": true,
    "run_control": {
     "frozen": true
    },
    "slideshow": {
     "slide_type": "skip"
    }
   },
   "source": [
    "2022-07-26 11:19:45 2022-07-26 11:19:46 ## A summary of Lecture 1\n",
    "\n",
    "Most simulation analysis will involve extracting position data from certain atoms.\n",
    "\n",
    "- A `Universe` contains all information about a simulation system\n",
    "\n",
    "- An `AtomGroup` contains information about a group of atoms\n",
    "\n",
    "- We can use `Universe.select_atoms()` to create an `AtomGroup` containing specific atoms from a `Universe`\n",
    "\n",
    "- Positions of atoms in an AtomGroup are accessed through `AtomGroup.positions`"
   ]
  },
  {
   "cell_type": "markdown",
   "metadata": {
    "slideshow": {
     "slide_type": "slide"
    }
   },
   "source": [
    "# A summary of Lecture 2\n",
    "\n",
    "Calculating pairwise distances:\n",
    "- calc_bonds\n",
    "- distance_array\n",
    "- self_distance_array\n",
    "\n",
    "Faster, sparse pairwise distances:\n",
    "- capped_distance\n",
    "- self_capped_distance\n",
    "\n",
    "Calculating angles:\n",
    "- calc_angles\n",
    "- calc_dihedrals\n"
   ]
  },
  {
   "cell_type": "markdown",
   "metadata": {
    "slideshow": {
     "slide_type": "slide"
    }
   },
   "source": [
    "## Now - on to the second tutorial!\n",
    "\n",
    "Find the tutorial notebook `Tutorial2_Distances_Trajectories` under: https://github.com/MDAnalysis/MDAnalysisWorkshop2023/notebooks/Tutorial2_Distances_Trajectories.ipynb\n",
    "\n",
    "**Remember:**\n",
    "- Go at your own pace!\n",
    "- Ask questions!\n",
    "- Take breaks!"
   ]
  },
  {
   "cell_type": "code",
   "execution_count": null,
   "metadata": {},
   "outputs": [],
   "source": []
  }
 ],
 "metadata": {
  "celltoolbar": "Slideshow",
  "hide_input": false,
  "kernelspec": {
   "display_name": "Python 3 (ipykernel)",
   "language": "python",
   "name": "python3"
  },
  "language_info": {
   "codemirror_mode": {
    "name": "ipython",
    "version": 3
   },
   "file_extension": ".py",
   "mimetype": "text/x-python",
   "name": "python",
   "nbconvert_exporter": "python",
   "pygments_lexer": "ipython3",
   "version": "3.11.0"
  },
  "toc": {
   "base_numbering": 1,
   "nav_menu": {},
   "number_sections": true,
   "sideBar": true,
   "skip_h1_title": false,
   "title_cell": "Table of Contents",
   "title_sidebar": "Contents",
   "toc_cell": false,
   "toc_position": {},
   "toc_section_display": true,
   "toc_window_display": false
  }
 },
 "nbformat": 4,
 "nbformat_minor": 4
}
